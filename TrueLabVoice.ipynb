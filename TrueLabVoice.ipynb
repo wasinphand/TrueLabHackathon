{
  "nbformat": 4,
  "nbformat_minor": 0,
  "metadata": {
    "colab": {
      "name": "TrueLabVoice.ipynb",
      "provenance": [],
      "collapsed_sections": []
    },
    "kernelspec": {
      "name": "python3",
      "display_name": "Python 3"
    },
    "language_info": {
      "name": "python"
    }
  },
  "cells": [
    {
      "cell_type": "code",
      "metadata": {
        "colab": {
          "base_uri": "https://localhost:8080/"
        },
        "id": "ajM2FEpDGzHL",
        "outputId": "7807594a-96b0-43cc-bf78-7655ba66f01c"
      },
      "source": [
        "from google.colab import drive\n",
        "\n",
        "drive.mount('/content/gdrive')\n",
        "\n"
      ],
      "execution_count": 24,
      "outputs": [
        {
          "output_type": "stream",
          "text": [
            "Drive already mounted at /content/gdrive; to attempt to forcibly remount, call drive.mount(\"/content/gdrive\", force_remount=True).\n"
          ],
          "name": "stdout"
        }
      ]
    },
    {
      "cell_type": "code",
      "metadata": {
        "id": "aWsBNsaRHYGc"
      },
      "source": [
        "# !ls '/content/gdrive/My Drive/data_set'"
      ],
      "execution_count": 25,
      "outputs": []
    },
    {
      "cell_type": "code",
      "metadata": {
        "id": "A9HtpIbjHxSu"
      },
      "source": [
        "import pandas as pd\n",
        "import librosa\n",
        "import os\n",
        "import numpy as np"
      ],
      "execution_count": 55,
      "outputs": []
    },
    {
      "cell_type": "code",
      "metadata": {
        "id": "0gEWx85RIOeo"
      },
      "source": [
        "PATH = '/content/gdrive/My Drive/data_set'"
      ],
      "execution_count": 27,
      "outputs": []
    },
    {
      "cell_type": "code",
      "metadata": {
        "colab": {
          "base_uri": "https://localhost:8080/",
          "height": 204
        },
        "id": "JvWckihJINAy",
        "outputId": "1c1f37cc-29f3-4fc9-f5c9-8fe5e3e8c1ec"
      },
      "source": [
        "df = pd.read_excel(PATH+'/Voice_Data_Description.xlsx')\n",
        "df.head()"
      ],
      "execution_count": 28,
      "outputs": [
        {
          "output_type": "execute_result",
          "data": {
            "text/html": [
              "<div>\n",
              "<style scoped>\n",
              "    .dataframe tbody tr th:only-of-type {\n",
              "        vertical-align: middle;\n",
              "    }\n",
              "\n",
              "    .dataframe tbody tr th {\n",
              "        vertical-align: top;\n",
              "    }\n",
              "\n",
              "    .dataframe thead th {\n",
              "        text-align: right;\n",
              "    }\n",
              "</style>\n",
              "<table border=\"1\" class=\"dataframe\">\n",
              "  <thead>\n",
              "    <tr style=\"text-align: right;\">\n",
              "      <th></th>\n",
              "      <th>Unnamed: 0</th>\n",
              "      <th>Unnamed: 1</th>\n",
              "      <th>Unnamed: 2</th>\n",
              "      <th>Unnamed: 3</th>\n",
              "    </tr>\n",
              "  </thead>\n",
              "  <tbody>\n",
              "    <tr>\n",
              "      <th>0</th>\n",
              "      <td>No.</td>\n",
              "      <td>ID No.</td>\n",
              "      <td>No. of Files</td>\n",
              "      <td>Lenght</td>\n",
              "    </tr>\n",
              "    <tr>\n",
              "      <th>1</th>\n",
              "      <td>1</td>\n",
              "      <td>ID001</td>\n",
              "      <td>4</td>\n",
              "      <td>10.47</td>\n",
              "    </tr>\n",
              "    <tr>\n",
              "      <th>2</th>\n",
              "      <td>2</td>\n",
              "      <td>ID002</td>\n",
              "      <td>5</td>\n",
              "      <td>7.07</td>\n",
              "    </tr>\n",
              "    <tr>\n",
              "      <th>3</th>\n",
              "      <td>3</td>\n",
              "      <td>ID003</td>\n",
              "      <td>5</td>\n",
              "      <td>8.05</td>\n",
              "    </tr>\n",
              "    <tr>\n",
              "      <th>4</th>\n",
              "      <td>4</td>\n",
              "      <td>ID004</td>\n",
              "      <td>4</td>\n",
              "      <td>9.39</td>\n",
              "    </tr>\n",
              "  </tbody>\n",
              "</table>\n",
              "</div>"
            ],
            "text/plain": [
              "  Unnamed: 0 Unnamed: 1    Unnamed: 2 Unnamed: 3\n",
              "0        No.     ID No.  No. of Files     Lenght\n",
              "1          1      ID001             4      10.47\n",
              "2          2      ID002             5       7.07\n",
              "3          3      ID003             5       8.05\n",
              "4          4      ID004             4       9.39"
            ]
          },
          "metadata": {
            "tags": []
          },
          "execution_count": 28
        }
      ]
    },
    {
      "cell_type": "code",
      "metadata": {
        "id": "MBRl5L1nIg1O"
      },
      "source": [
        "df.columns = df.iloc[0]\n",
        "df = df.drop([0])"
      ],
      "execution_count": 29,
      "outputs": []
    },
    {
      "cell_type": "code",
      "metadata": {
        "colab": {
          "base_uri": "https://localhost:8080/",
          "height": 204
        },
        "id": "2SLqWCGzIo0S",
        "outputId": "6227d411-013a-4cd5-f925-fd97b48d6bf1"
      },
      "source": [
        "df.head()"
      ],
      "execution_count": 30,
      "outputs": [
        {
          "output_type": "execute_result",
          "data": {
            "text/html": [
              "<div>\n",
              "<style scoped>\n",
              "    .dataframe tbody tr th:only-of-type {\n",
              "        vertical-align: middle;\n",
              "    }\n",
              "\n",
              "    .dataframe tbody tr th {\n",
              "        vertical-align: top;\n",
              "    }\n",
              "\n",
              "    .dataframe thead th {\n",
              "        text-align: right;\n",
              "    }\n",
              "</style>\n",
              "<table border=\"1\" class=\"dataframe\">\n",
              "  <thead>\n",
              "    <tr style=\"text-align: right;\">\n",
              "      <th></th>\n",
              "      <th>No.</th>\n",
              "      <th>ID No.</th>\n",
              "      <th>No. of Files</th>\n",
              "      <th>Lenght</th>\n",
              "    </tr>\n",
              "  </thead>\n",
              "  <tbody>\n",
              "    <tr>\n",
              "      <th>1</th>\n",
              "      <td>1</td>\n",
              "      <td>ID001</td>\n",
              "      <td>4</td>\n",
              "      <td>10.47</td>\n",
              "    </tr>\n",
              "    <tr>\n",
              "      <th>2</th>\n",
              "      <td>2</td>\n",
              "      <td>ID002</td>\n",
              "      <td>5</td>\n",
              "      <td>7.07</td>\n",
              "    </tr>\n",
              "    <tr>\n",
              "      <th>3</th>\n",
              "      <td>3</td>\n",
              "      <td>ID003</td>\n",
              "      <td>5</td>\n",
              "      <td>8.05</td>\n",
              "    </tr>\n",
              "    <tr>\n",
              "      <th>4</th>\n",
              "      <td>4</td>\n",
              "      <td>ID004</td>\n",
              "      <td>4</td>\n",
              "      <td>9.39</td>\n",
              "    </tr>\n",
              "    <tr>\n",
              "      <th>5</th>\n",
              "      <td>5</td>\n",
              "      <td>ID005</td>\n",
              "      <td>3</td>\n",
              "      <td>4.4</td>\n",
              "    </tr>\n",
              "  </tbody>\n",
              "</table>\n",
              "</div>"
            ],
            "text/plain": [
              "0 No. ID No. No. of Files Lenght\n",
              "1   1  ID001            4  10.47\n",
              "2   2  ID002            5   7.07\n",
              "3   3  ID003            5   8.05\n",
              "4   4  ID004            4   9.39\n",
              "5   5  ID005            3    4.4"
            ]
          },
          "metadata": {
            "tags": []
          },
          "execution_count": 30
        }
      ]
    },
    {
      "cell_type": "code",
      "metadata": {
        "colab": {
          "base_uri": "https://localhost:8080/",
          "height": 130
        },
        "id": "5VQ4fN1JIrwL",
        "outputId": "e0ada691-8729-4fc7-e214-248cc8687362"
      },
      "source": [
        "filename = PATH+'/ID00101.mp3'\n",
        "X, sample_rate = librosa.load(filename)\n",
        "#def get_data(file_path):\n",
        "  "
      ],
      "execution_count": 31,
      "outputs": [
        {
          "output_type": "error",
          "ename": "SyntaxError",
          "evalue": "ignored",
          "traceback": [
            "\u001b[0;36m  File \u001b[0;32m\"<ipython-input-31-8a2c93443e60>\"\u001b[0;36m, line \u001b[0;32m4\u001b[0m\n\u001b[0;31m    \u001b[0m\n\u001b[0m    ^\u001b[0m\n\u001b[0;31mSyntaxError\u001b[0m\u001b[0;31m:\u001b[0m unexpected EOF while parsing\n"
          ]
        }
      ]
    },
    {
      "cell_type": "code",
      "metadata": {
        "id": "4kxmpp0KKDrN"
      },
      "source": [
        "data = {'speaker':[],'file':[]}\n",
        "for index, row in df.iterrows():\n",
        "  \n",
        "  for i in range(row['No. of Files']):\n",
        "    data['speaker'].append(int(row['ID No.'][2:5]))\n",
        "    x = str(i+1) if len(str(i+1))==2 else '0'+str(i+1)\n",
        "    data['file'].append(row['ID No.'] + x+'.mp3')\n",
        "data = pd.DataFrame(data=data)"
      ],
      "execution_count": 57,
      "outputs": []
    },
    {
      "cell_type": "code",
      "metadata": {
        "colab": {
          "base_uri": "https://localhost:8080/",
          "height": 204
        },
        "id": "mAws6bIPKGSW",
        "outputId": "2132efe5-2bbe-47a6-9425-856831409237"
      },
      "source": [
        "data.head()"
      ],
      "execution_count": 58,
      "outputs": [
        {
          "output_type": "execute_result",
          "data": {
            "text/html": [
              "<div>\n",
              "<style scoped>\n",
              "    .dataframe tbody tr th:only-of-type {\n",
              "        vertical-align: middle;\n",
              "    }\n",
              "\n",
              "    .dataframe tbody tr th {\n",
              "        vertical-align: top;\n",
              "    }\n",
              "\n",
              "    .dataframe thead th {\n",
              "        text-align: right;\n",
              "    }\n",
              "</style>\n",
              "<table border=\"1\" class=\"dataframe\">\n",
              "  <thead>\n",
              "    <tr style=\"text-align: right;\">\n",
              "      <th></th>\n",
              "      <th>speaker</th>\n",
              "      <th>file</th>\n",
              "    </tr>\n",
              "  </thead>\n",
              "  <tbody>\n",
              "    <tr>\n",
              "      <th>0</th>\n",
              "      <td>1</td>\n",
              "      <td>ID00101.mp3</td>\n",
              "    </tr>\n",
              "    <tr>\n",
              "      <th>1</th>\n",
              "      <td>1</td>\n",
              "      <td>ID00102.mp3</td>\n",
              "    </tr>\n",
              "    <tr>\n",
              "      <th>2</th>\n",
              "      <td>1</td>\n",
              "      <td>ID00103.mp3</td>\n",
              "    </tr>\n",
              "    <tr>\n",
              "      <th>3</th>\n",
              "      <td>1</td>\n",
              "      <td>ID00104.mp3</td>\n",
              "    </tr>\n",
              "    <tr>\n",
              "      <th>4</th>\n",
              "      <td>2</td>\n",
              "      <td>ID00201.mp3</td>\n",
              "    </tr>\n",
              "  </tbody>\n",
              "</table>\n",
              "</div>"
            ],
            "text/plain": [
              "   speaker         file\n",
              "0        1  ID00101.mp3\n",
              "1        1  ID00102.mp3\n",
              "2        1  ID00103.mp3\n",
              "3        1  ID00104.mp3\n",
              "4        2  ID00201.mp3"
            ]
          },
          "metadata": {
            "tags": []
          },
          "execution_count": 58
        }
      ]
    },
    {
      "cell_type": "code",
      "metadata": {
        "id": "vRvTaEGeKLsn"
      },
      "source": [
        "def extract_features(filename):\n",
        "      X, sample_rate = librosa.load(filename, res_type='kaiser_fast')\n",
        "      mfccs = np.mean(librosa.feature.mfcc(y=X, sr=sample_rate, n_mfcc=40).T,axis=0)\n",
        "      stft = np.abs(librosa.stft(X))\n",
        "      chroma = np.mean(librosa.feature.chroma_stft(S=stft, sr=sample_rate).T,axis=0)\n",
        "      mel = np.mean(librosa.feature.melspectrogram(X, sr=sample_rate).T,axis=0)\n",
        "      contrast = np.mean(librosa.feature.spectral_contrast(S=stft, sr=sample_rate).T,axis=0)\n",
        "      tonnetz = np.mean(librosa.feature.tonnetz(y=librosa.effects.harmonic(X),sr=sample_rate).T,axis=0)\n",
        "      return mfccs, chroma, mel, contrast, tonnetz\n",
        "\n"
      ],
      "execution_count": 59,
      "outputs": []
    },
    {
      "cell_type": "code",
      "metadata": {
        "id": "USVjTjaYa2Wm"
      },
      "source": [
        "#s = extract_features(PATH+'/ID00101.mp3')\n",
        "train_features = []"
      ],
      "execution_count": 71,
      "outputs": []
    },
    {
      "cell_type": "code",
      "metadata": {
        "colab": {
          "base_uri": "https://localhost:8080/",
          "height": 324
        },
        "id": "UTD5Ho0KbDjD",
        "outputId": "6e15a206-d5db-440f-b5f3-9d8c6c56819e"
      },
      "source": [
        "for index,row in data.iterrows():\n",
        "  train_features.append(extract_features(PATH+'/'+row['file']))"
      ],
      "execution_count": 72,
      "outputs": [
        {
          "output_type": "error",
          "ename": "KeyboardInterrupt",
          "evalue": "ignored",
          "traceback": [
            "\u001b[0;31m---------------------------------------------------------------------------\u001b[0m",
            "\u001b[0;31mKeyboardInterrupt\u001b[0m                         Traceback (most recent call last)",
            "\u001b[0;32m<ipython-input-72-0a16ebea05b4>\u001b[0m in \u001b[0;36m<module>\u001b[0;34m()\u001b[0m\n\u001b[1;32m      1\u001b[0m \u001b[0;32mfor\u001b[0m \u001b[0mindex\u001b[0m\u001b[0;34m,\u001b[0m\u001b[0mrow\u001b[0m \u001b[0;32min\u001b[0m \u001b[0mdata\u001b[0m\u001b[0;34m.\u001b[0m\u001b[0miterrows\u001b[0m\u001b[0;34m(\u001b[0m\u001b[0;34m)\u001b[0m\u001b[0;34m:\u001b[0m\u001b[0;34m\u001b[0m\u001b[0;34m\u001b[0m\u001b[0m\n\u001b[0;32m----> 2\u001b[0;31m   \u001b[0mtrain_features\u001b[0m\u001b[0;34m.\u001b[0m\u001b[0mappend\u001b[0m\u001b[0;34m(\u001b[0m\u001b[0mextract_features\u001b[0m\u001b[0;34m(\u001b[0m\u001b[0mPATH\u001b[0m\u001b[0;34m+\u001b[0m\u001b[0;34m'/'\u001b[0m\u001b[0;34m+\u001b[0m\u001b[0mrow\u001b[0m\u001b[0;34m[\u001b[0m\u001b[0;34m'file'\u001b[0m\u001b[0;34m]\u001b[0m\u001b[0;34m)\u001b[0m\u001b[0;34m)\u001b[0m\u001b[0;34m\u001b[0m\u001b[0;34m\u001b[0m\u001b[0m\n\u001b[0m",
            "\u001b[0;32m<ipython-input-59-809998bd17e8>\u001b[0m in \u001b[0;36mextract_features\u001b[0;34m(filename)\u001b[0m\n\u001b[1;32m      6\u001b[0m       \u001b[0mmel\u001b[0m \u001b[0;34m=\u001b[0m \u001b[0mnp\u001b[0m\u001b[0;34m.\u001b[0m\u001b[0mmean\u001b[0m\u001b[0;34m(\u001b[0m\u001b[0mlibrosa\u001b[0m\u001b[0;34m.\u001b[0m\u001b[0mfeature\u001b[0m\u001b[0;34m.\u001b[0m\u001b[0mmelspectrogram\u001b[0m\u001b[0;34m(\u001b[0m\u001b[0mX\u001b[0m\u001b[0;34m,\u001b[0m \u001b[0msr\u001b[0m\u001b[0;34m=\u001b[0m\u001b[0msample_rate\u001b[0m\u001b[0;34m)\u001b[0m\u001b[0;34m.\u001b[0m\u001b[0mT\u001b[0m\u001b[0;34m,\u001b[0m\u001b[0maxis\u001b[0m\u001b[0;34m=\u001b[0m\u001b[0;36m0\u001b[0m\u001b[0;34m)\u001b[0m\u001b[0;34m\u001b[0m\u001b[0;34m\u001b[0m\u001b[0m\n\u001b[1;32m      7\u001b[0m       \u001b[0mcontrast\u001b[0m \u001b[0;34m=\u001b[0m \u001b[0mnp\u001b[0m\u001b[0;34m.\u001b[0m\u001b[0mmean\u001b[0m\u001b[0;34m(\u001b[0m\u001b[0mlibrosa\u001b[0m\u001b[0;34m.\u001b[0m\u001b[0mfeature\u001b[0m\u001b[0;34m.\u001b[0m\u001b[0mspectral_contrast\u001b[0m\u001b[0;34m(\u001b[0m\u001b[0mS\u001b[0m\u001b[0;34m=\u001b[0m\u001b[0mstft\u001b[0m\u001b[0;34m,\u001b[0m \u001b[0msr\u001b[0m\u001b[0;34m=\u001b[0m\u001b[0msample_rate\u001b[0m\u001b[0;34m)\u001b[0m\u001b[0;34m.\u001b[0m\u001b[0mT\u001b[0m\u001b[0;34m,\u001b[0m\u001b[0maxis\u001b[0m\u001b[0;34m=\u001b[0m\u001b[0;36m0\u001b[0m\u001b[0;34m)\u001b[0m\u001b[0;34m\u001b[0m\u001b[0;34m\u001b[0m\u001b[0m\n\u001b[0;32m----> 8\u001b[0;31m       \u001b[0mtonnetz\u001b[0m \u001b[0;34m=\u001b[0m \u001b[0mnp\u001b[0m\u001b[0;34m.\u001b[0m\u001b[0mmean\u001b[0m\u001b[0;34m(\u001b[0m\u001b[0mlibrosa\u001b[0m\u001b[0;34m.\u001b[0m\u001b[0mfeature\u001b[0m\u001b[0;34m.\u001b[0m\u001b[0mtonnetz\u001b[0m\u001b[0;34m(\u001b[0m\u001b[0my\u001b[0m\u001b[0;34m=\u001b[0m\u001b[0mlibrosa\u001b[0m\u001b[0;34m.\u001b[0m\u001b[0meffects\u001b[0m\u001b[0;34m.\u001b[0m\u001b[0mharmonic\u001b[0m\u001b[0;34m(\u001b[0m\u001b[0mX\u001b[0m\u001b[0;34m)\u001b[0m\u001b[0;34m,\u001b[0m\u001b[0msr\u001b[0m\u001b[0;34m=\u001b[0m\u001b[0msample_rate\u001b[0m\u001b[0;34m)\u001b[0m\u001b[0;34m.\u001b[0m\u001b[0mT\u001b[0m\u001b[0;34m,\u001b[0m\u001b[0maxis\u001b[0m\u001b[0;34m=\u001b[0m\u001b[0;36m0\u001b[0m\u001b[0;34m)\u001b[0m\u001b[0;34m\u001b[0m\u001b[0;34m\u001b[0m\u001b[0m\n\u001b[0m\u001b[1;32m      9\u001b[0m       \u001b[0;32mreturn\u001b[0m \u001b[0mmfccs\u001b[0m\u001b[0;34m,\u001b[0m \u001b[0mchroma\u001b[0m\u001b[0;34m,\u001b[0m \u001b[0mmel\u001b[0m\u001b[0;34m,\u001b[0m \u001b[0mcontrast\u001b[0m\u001b[0;34m,\u001b[0m \u001b[0mtonnetz\u001b[0m\u001b[0;34m\u001b[0m\u001b[0;34m\u001b[0m\u001b[0m\n\u001b[1;32m     10\u001b[0m \u001b[0;34m\u001b[0m\u001b[0m\n",
            "\u001b[0;32m/usr/local/lib/python3.7/dist-packages/librosa/effects.py\u001b[0m in \u001b[0;36mharmonic\u001b[0;34m(y, **kwargs)\u001b[0m\n\u001b[1;32m    146\u001b[0m \u001b[0;34m\u001b[0m\u001b[0m\n\u001b[1;32m    147\u001b[0m     \u001b[0;31m# Remove percussives\u001b[0m\u001b[0;34m\u001b[0m\u001b[0;34m\u001b[0m\u001b[0;34m\u001b[0m\u001b[0m\n\u001b[0;32m--> 148\u001b[0;31m     \u001b[0mstft_harm\u001b[0m \u001b[0;34m=\u001b[0m \u001b[0mdecompose\u001b[0m\u001b[0;34m.\u001b[0m\u001b[0mhpss\u001b[0m\u001b[0;34m(\u001b[0m\u001b[0mstft\u001b[0m\u001b[0;34m,\u001b[0m \u001b[0;34m**\u001b[0m\u001b[0mkwargs\u001b[0m\u001b[0;34m)\u001b[0m\u001b[0;34m[\u001b[0m\u001b[0;36m0\u001b[0m\u001b[0;34m]\u001b[0m\u001b[0;34m\u001b[0m\u001b[0;34m\u001b[0m\u001b[0m\n\u001b[0m\u001b[1;32m    149\u001b[0m \u001b[0;34m\u001b[0m\u001b[0m\n\u001b[1;32m    150\u001b[0m     \u001b[0;31m# Invert the STFTs\u001b[0m\u001b[0;34m\u001b[0m\u001b[0;34m\u001b[0m\u001b[0;34m\u001b[0m\u001b[0m\n",
            "\u001b[0;32m/usr/local/lib/python3.7/dist-packages/librosa/decompose.py\u001b[0m in \u001b[0;36mhpss\u001b[0;34m(S, kernel_size, power, mask, margin)\u001b[0m\n\u001b[1;32m    337\u001b[0m \u001b[0;34m\u001b[0m\u001b[0m\n\u001b[1;32m    338\u001b[0m     \u001b[0mperc\u001b[0m \u001b[0;34m=\u001b[0m \u001b[0mnp\u001b[0m\u001b[0;34m.\u001b[0m\u001b[0mempty_like\u001b[0m\u001b[0;34m(\u001b[0m\u001b[0mS\u001b[0m\u001b[0;34m)\u001b[0m\u001b[0;34m\u001b[0m\u001b[0;34m\u001b[0m\u001b[0m\n\u001b[0;32m--> 339\u001b[0;31m     \u001b[0mperc\u001b[0m\u001b[0;34m[\u001b[0m\u001b[0;34m:\u001b[0m\u001b[0;34m]\u001b[0m \u001b[0;34m=\u001b[0m \u001b[0mmedian_filter\u001b[0m\u001b[0;34m(\u001b[0m\u001b[0mS\u001b[0m\u001b[0;34m,\u001b[0m \u001b[0msize\u001b[0m\u001b[0;34m=\u001b[0m\u001b[0;34m(\u001b[0m\u001b[0mwin_perc\u001b[0m\u001b[0;34m,\u001b[0m \u001b[0;36m1\u001b[0m\u001b[0;34m)\u001b[0m\u001b[0;34m,\u001b[0m \u001b[0mmode\u001b[0m\u001b[0;34m=\u001b[0m\u001b[0;34m\"reflect\"\u001b[0m\u001b[0;34m)\u001b[0m\u001b[0;34m\u001b[0m\u001b[0;34m\u001b[0m\u001b[0m\n\u001b[0m\u001b[1;32m    340\u001b[0m \u001b[0;34m\u001b[0m\u001b[0m\n\u001b[1;32m    341\u001b[0m     \u001b[0msplit_zeros\u001b[0m \u001b[0;34m=\u001b[0m \u001b[0mmargin_harm\u001b[0m \u001b[0;34m==\u001b[0m \u001b[0;36m1\u001b[0m \u001b[0;32mand\u001b[0m \u001b[0mmargin_perc\u001b[0m \u001b[0;34m==\u001b[0m \u001b[0;36m1\u001b[0m\u001b[0;34m\u001b[0m\u001b[0;34m\u001b[0m\u001b[0m\n",
            "\u001b[0;32m/usr/local/lib/python3.7/dist-packages/scipy/ndimage/filters.py\u001b[0m in \u001b[0;36mmedian_filter\u001b[0;34m(input, size, footprint, output, mode, cval, origin)\u001b[0m\n\u001b[1;32m   1239\u001b[0m     \"\"\"\n\u001b[1;32m   1240\u001b[0m     return _rank_filter(input, 0, size, footprint, output, mode, cval,\n\u001b[0;32m-> 1241\u001b[0;31m                         origin, 'median')\n\u001b[0m\u001b[1;32m   1242\u001b[0m \u001b[0;34m\u001b[0m\u001b[0m\n\u001b[1;32m   1243\u001b[0m \u001b[0;34m\u001b[0m\u001b[0m\n",
            "\u001b[0;32m/usr/local/lib/python3.7/dist-packages/scipy/ndimage/filters.py\u001b[0m in \u001b[0;36m_rank_filter\u001b[0;34m(input, rank, size, footprint, output, mode, cval, origin, operation)\u001b[0m\n\u001b[1;32m   1159\u001b[0m         \u001b[0mmode\u001b[0m \u001b[0;34m=\u001b[0m \u001b[0m_ni_support\u001b[0m\u001b[0;34m.\u001b[0m\u001b[0m_extend_mode_to_code\u001b[0m\u001b[0;34m(\u001b[0m\u001b[0mmode\u001b[0m\u001b[0;34m)\u001b[0m\u001b[0;34m\u001b[0m\u001b[0;34m\u001b[0m\u001b[0m\n\u001b[1;32m   1160\u001b[0m         _nd_image.rank_filter(input, rank, footprint, output, mode, cval,\n\u001b[0;32m-> 1161\u001b[0;31m                               origins)\n\u001b[0m\u001b[1;32m   1162\u001b[0m         \u001b[0;32mreturn\u001b[0m \u001b[0moutput\u001b[0m\u001b[0;34m\u001b[0m\u001b[0;34m\u001b[0m\u001b[0m\n\u001b[1;32m   1163\u001b[0m \u001b[0;34m\u001b[0m\u001b[0m\n",
            "\u001b[0;31mKeyboardInterrupt\u001b[0m: "
          ]
        }
      ]
    },
    {
      "cell_type": "code",
      "metadata": {
        "colab": {
          "base_uri": "https://localhost:8080/"
        },
        "id": "oJhLo1L8bk9a",
        "outputId": "06603260-07d3-4171-9387-6f86679259fa"
      },
      "source": [
        ""
      ],
      "execution_count": 79,
      "outputs": [
        {
          "output_type": "stream",
          "text": [
            "     speaker         file\n",
            "0          1  ID00101.mp3\n",
            "1          1  ID00102.mp3\n",
            "2          1  ID00103.mp3\n",
            "3          1  ID00104.mp3\n",
            "4          2  ID00201.mp3\n",
            "..       ...          ...\n",
            "293       85  ID08503.mp3\n",
            "294       86  ID08601.mp3\n",
            "295       86  ID08602.mp3\n",
            "296       86  ID08603.mp3\n",
            "297       86  ID08604.mp3\n",
            "\n",
            "[298 rows x 2 columns]\n"
          ],
          "name": "stdout"
        }
      ]
    },
    {
      "cell_type": "code",
      "metadata": {
        "id": "sYeUALjUfIYr"
      },
      "source": [
        "features_train = []\n",
        "for i in range(0, len(train_features)):\n",
        "    features_train.append(np.concatenate((\n",
        "        train_features[i][0],\n",
        "        train_features[i][1], \n",
        "        train_features[i][2], \n",
        "        train_features[i][3],\n",
        "        train_features[i][4]), axis=0))\n"
      ],
      "execution_count": 133,
      "outputs": []
    },
    {
      "cell_type": "code",
      "metadata": {
        "id": "SLFMHDEPyndj"
      },
      "source": [
        "X_train = np.array(features_train)\n",
        "y_train = np.array(data['speaker'])\n"
      ],
      "execution_count": 134,
      "outputs": []
    },
    {
      "cell_type": "code",
      "metadata": {
        "id": "M_Zk8LsWy6qc"
      },
      "source": [
        "from sklearn.preprocessing import LabelEncoder\n",
        "from keras.utils.np_utils import to_categorical"
      ],
      "execution_count": 135,
      "outputs": []
    },
    {
      "cell_type": "code",
      "metadata": {
        "id": "IzLikXVK0Axa"
      },
      "source": [
        "lb = LabelEncoder()\n",
        "y_train = to_categorical(lb.fit_transform(y_train))"
      ],
      "execution_count": 136,
      "outputs": []
    },
    {
      "cell_type": "code",
      "metadata": {
        "colab": {
          "base_uri": "https://localhost:8080/"
        },
        "id": "WFm9QSVwPkSV",
        "outputId": "18044e5a-b8b5-4768-c3f2-57e759e1770b"
      },
      "source": [
        ""
      ],
      "execution_count": 137,
      "outputs": [
        {
          "output_type": "stream",
          "text": [
            "(298, 86)\n"
          ],
          "name": "stdout"
        }
      ]
    },
    {
      "cell_type": "code",
      "metadata": {
        "id": "Cn6eO7PJ0Cjp"
      },
      "source": [
        "from sklearn.preprocessing import StandardScaler\n",
        "X_train = StandardScaler().fit_transform(X_train)"
      ],
      "execution_count": 138,
      "outputs": []
    },
    {
      "cell_type": "code",
      "metadata": {
        "id": "F0kocPWI2SCk"
      },
      "source": [
        "from sklearn.model_selection import train_test_split\n",
        "X_train, X_val, y_train, y_val = train_test_split(X_train, y_train, test_size=0.33, random_state=42)"
      ],
      "execution_count": 139,
      "outputs": []
    },
    {
      "cell_type": "code",
      "metadata": {
        "id": "8T410TxnPeNE"
      },
      "source": [
        ""
      ],
      "execution_count": 139,
      "outputs": []
    },
    {
      "cell_type": "code",
      "metadata": {
        "id": "ja_ITnyU0GEe"
      },
      "source": [
        "from keras.models import Sequential\n",
        "from keras.layers import Dense, Dropout, Activation, Flatten\n",
        "model = Sequential()\n",
        "model.add(Dense(193, input_shape=(193,), activation = 'relu'))\n",
        "model.add(Dropout(0.1))\n",
        "model.add(Dense(128, activation = 'relu'))\n",
        "model.add(Dropout(0.25))\n",
        "model.add(Dense(128, activation = 'relu'))\n",
        "model.add(Dropout(0.5))\n",
        "model.add(Dense(86, activation = 'softmax'))\n",
        "model.compile(loss='categorical_crossentropy', metrics=['accuracy'], optimizer='adam')\n"
      ],
      "execution_count": 148,
      "outputs": []
    },
    {
      "cell_type": "code",
      "metadata": {
        "colab": {
          "base_uri": "https://localhost:8080/"
        },
        "id": "vw3WqVjw0X8Z",
        "outputId": "17b04b62-eca1-40cb-e592-ae650880665c"
      },
      "source": [
        "history = model.fit(X_train, y_train, batch_size=16, epochs=100,validation_data=(X_val, y_val))"
      ],
      "execution_count": 149,
      "outputs": [
        {
          "output_type": "stream",
          "text": [
            "Epoch 1/100\n",
            "13/13 [==============================] - 6s 58ms/step - loss: 4.6027 - accuracy: 0.0179 - val_loss: 4.1946 - val_accuracy: 0.1212\n",
            "Epoch 2/100\n",
            "13/13 [==============================] - 0s 6ms/step - loss: 4.0806 - accuracy: 0.1367 - val_loss: 3.9191 - val_accuracy: 0.2626\n",
            "Epoch 3/100\n",
            "13/13 [==============================] - 0s 5ms/step - loss: 3.6064 - accuracy: 0.1975 - val_loss: 3.6268 - val_accuracy: 0.3333\n",
            "Epoch 4/100\n",
            "13/13 [==============================] - 0s 5ms/step - loss: 3.2266 - accuracy: 0.3296 - val_loss: 3.3672 - val_accuracy: 0.4444\n",
            "Epoch 5/100\n",
            "13/13 [==============================] - 0s 5ms/step - loss: 2.8978 - accuracy: 0.3812 - val_loss: 3.1144 - val_accuracy: 0.5152\n",
            "Epoch 6/100\n",
            "13/13 [==============================] - 0s 5ms/step - loss: 2.4561 - accuracy: 0.4498 - val_loss: 2.9327 - val_accuracy: 0.5354\n",
            "Epoch 7/100\n",
            "13/13 [==============================] - 0s 5ms/step - loss: 2.4416 - accuracy: 0.3857 - val_loss: 2.7267 - val_accuracy: 0.5657\n",
            "Epoch 8/100\n",
            "13/13 [==============================] - 0s 5ms/step - loss: 1.9063 - accuracy: 0.5770 - val_loss: 2.5588 - val_accuracy: 0.6162\n",
            "Epoch 9/100\n",
            "13/13 [==============================] - 0s 4ms/step - loss: 1.7024 - accuracy: 0.6019 - val_loss: 2.4479 - val_accuracy: 0.6162\n",
            "Epoch 10/100\n",
            "13/13 [==============================] - 0s 5ms/step - loss: 1.4672 - accuracy: 0.6483 - val_loss: 2.3523 - val_accuracy: 0.6566\n",
            "Epoch 11/100\n",
            "13/13 [==============================] - 0s 6ms/step - loss: 1.2455 - accuracy: 0.7398 - val_loss: 2.2114 - val_accuracy: 0.6667\n",
            "Epoch 12/100\n",
            "13/13 [==============================] - 0s 5ms/step - loss: 1.1854 - accuracy: 0.7487 - val_loss: 2.0977 - val_accuracy: 0.6667\n",
            "Epoch 13/100\n",
            "13/13 [==============================] - 0s 8ms/step - loss: 1.0979 - accuracy: 0.7368 - val_loss: 2.1033 - val_accuracy: 0.6970\n",
            "Epoch 14/100\n",
            "13/13 [==============================] - 0s 5ms/step - loss: 1.0438 - accuracy: 0.7117 - val_loss: 2.1241 - val_accuracy: 0.6970\n",
            "Epoch 15/100\n",
            "13/13 [==============================] - 0s 5ms/step - loss: 0.9165 - accuracy: 0.7653 - val_loss: 2.1071 - val_accuracy: 0.6768\n",
            "Epoch 16/100\n",
            "13/13 [==============================] - 0s 6ms/step - loss: 0.7919 - accuracy: 0.7852 - val_loss: 2.0669 - val_accuracy: 0.7071\n",
            "Epoch 17/100\n",
            "13/13 [==============================] - 0s 4ms/step - loss: 0.6205 - accuracy: 0.8878 - val_loss: 2.0082 - val_accuracy: 0.7071\n",
            "Epoch 18/100\n",
            "13/13 [==============================] - 0s 5ms/step - loss: 0.7838 - accuracy: 0.7702 - val_loss: 2.0663 - val_accuracy: 0.7071\n",
            "Epoch 19/100\n",
            "13/13 [==============================] - 0s 5ms/step - loss: 0.6321 - accuracy: 0.8361 - val_loss: 1.9873 - val_accuracy: 0.7475\n",
            "Epoch 20/100\n",
            "13/13 [==============================] - 0s 5ms/step - loss: 0.5601 - accuracy: 0.8633 - val_loss: 2.0175 - val_accuracy: 0.7475\n",
            "Epoch 21/100\n",
            "13/13 [==============================] - 0s 6ms/step - loss: 0.6824 - accuracy: 0.7987 - val_loss: 1.9637 - val_accuracy: 0.7879\n",
            "Epoch 22/100\n",
            "13/13 [==============================] - 0s 5ms/step - loss: 0.4587 - accuracy: 0.8950 - val_loss: 1.9654 - val_accuracy: 0.7879\n",
            "Epoch 23/100\n",
            "13/13 [==============================] - 0s 4ms/step - loss: 0.4315 - accuracy: 0.8941 - val_loss: 2.0231 - val_accuracy: 0.7677\n",
            "Epoch 24/100\n",
            "13/13 [==============================] - 0s 4ms/step - loss: 0.4562 - accuracy: 0.8539 - val_loss: 2.0588 - val_accuracy: 0.7879\n",
            "Epoch 25/100\n",
            "13/13 [==============================] - 0s 6ms/step - loss: 0.4704 - accuracy: 0.8859 - val_loss: 2.0588 - val_accuracy: 0.7879\n",
            "Epoch 26/100\n",
            "13/13 [==============================] - 0s 5ms/step - loss: 0.2806 - accuracy: 0.9408 - val_loss: 2.0241 - val_accuracy: 0.7879\n",
            "Epoch 27/100\n",
            "13/13 [==============================] - 0s 6ms/step - loss: 0.5109 - accuracy: 0.8867 - val_loss: 2.0398 - val_accuracy: 0.7879\n",
            "Epoch 28/100\n",
            "13/13 [==============================] - 0s 5ms/step - loss: 0.3377 - accuracy: 0.8997 - val_loss: 2.0520 - val_accuracy: 0.7879\n",
            "Epoch 29/100\n",
            "13/13 [==============================] - 0s 5ms/step - loss: 0.3424 - accuracy: 0.9026 - val_loss: 2.0472 - val_accuracy: 0.7879\n",
            "Epoch 30/100\n",
            "13/13 [==============================] - 0s 5ms/step - loss: 0.3531 - accuracy: 0.8821 - val_loss: 2.1505 - val_accuracy: 0.7778\n",
            "Epoch 31/100\n",
            "13/13 [==============================] - 0s 5ms/step - loss: 0.2242 - accuracy: 0.9564 - val_loss: 2.0971 - val_accuracy: 0.7879\n",
            "Epoch 32/100\n",
            "13/13 [==============================] - 0s 5ms/step - loss: 0.2124 - accuracy: 0.9652 - val_loss: 2.1005 - val_accuracy: 0.7980\n",
            "Epoch 33/100\n",
            "13/13 [==============================] - 0s 5ms/step - loss: 0.2792 - accuracy: 0.9219 - val_loss: 2.1736 - val_accuracy: 0.7879\n",
            "Epoch 34/100\n",
            "13/13 [==============================] - 0s 5ms/step - loss: 0.2231 - accuracy: 0.9439 - val_loss: 2.2648 - val_accuracy: 0.7879\n",
            "Epoch 35/100\n",
            "13/13 [==============================] - 0s 6ms/step - loss: 0.2165 - accuracy: 0.9419 - val_loss: 2.3190 - val_accuracy: 0.7778\n",
            "Epoch 36/100\n",
            "13/13 [==============================] - 0s 5ms/step - loss: 0.1818 - accuracy: 0.9590 - val_loss: 2.2321 - val_accuracy: 0.7778\n",
            "Epoch 37/100\n",
            "13/13 [==============================] - 0s 5ms/step - loss: 0.2095 - accuracy: 0.9272 - val_loss: 2.1968 - val_accuracy: 0.7778\n",
            "Epoch 38/100\n",
            "13/13 [==============================] - 0s 5ms/step - loss: 0.2605 - accuracy: 0.8991 - val_loss: 2.1892 - val_accuracy: 0.7879\n",
            "Epoch 39/100\n",
            "13/13 [==============================] - 0s 4ms/step - loss: 0.2786 - accuracy: 0.9197 - val_loss: 2.2764 - val_accuracy: 0.7879\n",
            "Epoch 40/100\n",
            "13/13 [==============================] - 0s 6ms/step - loss: 0.1378 - accuracy: 0.9761 - val_loss: 2.3540 - val_accuracy: 0.7879\n",
            "Epoch 41/100\n",
            "13/13 [==============================] - 0s 7ms/step - loss: 0.1819 - accuracy: 0.9582 - val_loss: 2.3433 - val_accuracy: 0.7879\n",
            "Epoch 42/100\n",
            "13/13 [==============================] - 0s 5ms/step - loss: 0.1471 - accuracy: 0.9514 - val_loss: 2.2999 - val_accuracy: 0.7879\n",
            "Epoch 43/100\n",
            "13/13 [==============================] - 0s 5ms/step - loss: 0.1482 - accuracy: 0.9600 - val_loss: 2.3465 - val_accuracy: 0.7980\n",
            "Epoch 44/100\n",
            "13/13 [==============================] - 0s 6ms/step - loss: 0.1119 - accuracy: 0.9674 - val_loss: 2.3389 - val_accuracy: 0.7879\n",
            "Epoch 45/100\n",
            "13/13 [==============================] - 0s 5ms/step - loss: 0.1897 - accuracy: 0.9366 - val_loss: 2.4104 - val_accuracy: 0.7879\n",
            "Epoch 46/100\n",
            "13/13 [==============================] - 0s 5ms/step - loss: 0.1180 - accuracy: 0.9661 - val_loss: 2.4211 - val_accuracy: 0.7879\n",
            "Epoch 47/100\n",
            "13/13 [==============================] - 0s 5ms/step - loss: 0.1625 - accuracy: 0.9557 - val_loss: 2.3876 - val_accuracy: 0.7879\n",
            "Epoch 48/100\n",
            "13/13 [==============================] - 0s 6ms/step - loss: 0.1839 - accuracy: 0.9573 - val_loss: 2.2657 - val_accuracy: 0.7879\n",
            "Epoch 49/100\n",
            "13/13 [==============================] - 0s 5ms/step - loss: 0.1906 - accuracy: 0.9674 - val_loss: 2.3054 - val_accuracy: 0.7778\n",
            "Epoch 50/100\n",
            "13/13 [==============================] - 0s 6ms/step - loss: 0.1102 - accuracy: 0.9882 - val_loss: 2.4080 - val_accuracy: 0.7879\n",
            "Epoch 51/100\n",
            "13/13 [==============================] - 0s 5ms/step - loss: 0.1104 - accuracy: 0.9652 - val_loss: 2.5063 - val_accuracy: 0.7879\n",
            "Epoch 52/100\n",
            "13/13 [==============================] - 0s 5ms/step - loss: 0.0822 - accuracy: 0.9790 - val_loss: 2.5825 - val_accuracy: 0.7879\n",
            "Epoch 53/100\n",
            "13/13 [==============================] - 0s 5ms/step - loss: 0.0874 - accuracy: 0.9868 - val_loss: 2.5073 - val_accuracy: 0.7879\n",
            "Epoch 54/100\n",
            "13/13 [==============================] - 0s 4ms/step - loss: 0.1017 - accuracy: 0.9727 - val_loss: 2.5300 - val_accuracy: 0.7879\n",
            "Epoch 55/100\n",
            "13/13 [==============================] - 0s 6ms/step - loss: 0.1214 - accuracy: 0.9433 - val_loss: 2.4905 - val_accuracy: 0.7879\n",
            "Epoch 56/100\n",
            "13/13 [==============================] - 0s 6ms/step - loss: 0.0684 - accuracy: 0.9956 - val_loss: 2.4652 - val_accuracy: 0.7879\n",
            "Epoch 57/100\n",
            "13/13 [==============================] - 0s 6ms/step - loss: 0.0803 - accuracy: 0.9892 - val_loss: 2.5296 - val_accuracy: 0.7879\n",
            "Epoch 58/100\n",
            "13/13 [==============================] - 0s 4ms/step - loss: 0.1290 - accuracy: 0.9840 - val_loss: 2.5922 - val_accuracy: 0.7879\n",
            "Epoch 59/100\n",
            "13/13 [==============================] - 0s 4ms/step - loss: 0.1405 - accuracy: 0.9688 - val_loss: 2.5870 - val_accuracy: 0.7879\n",
            "Epoch 60/100\n",
            "13/13 [==============================] - 0s 6ms/step - loss: 0.1285 - accuracy: 0.9504 - val_loss: 2.5930 - val_accuracy: 0.7879\n",
            "Epoch 61/100\n",
            "13/13 [==============================] - 0s 5ms/step - loss: 0.1066 - accuracy: 0.9546 - val_loss: 2.4703 - val_accuracy: 0.7879\n",
            "Epoch 62/100\n",
            "13/13 [==============================] - 0s 6ms/step - loss: 0.1206 - accuracy: 0.9574 - val_loss: 2.3954 - val_accuracy: 0.7879\n",
            "Epoch 63/100\n",
            "13/13 [==============================] - 0s 5ms/step - loss: 0.0879 - accuracy: 0.9736 - val_loss: 2.3735 - val_accuracy: 0.7879\n",
            "Epoch 64/100\n",
            "13/13 [==============================] - 0s 5ms/step - loss: 0.0924 - accuracy: 0.9856 - val_loss: 2.4057 - val_accuracy: 0.7879\n",
            "Epoch 65/100\n",
            "13/13 [==============================] - 0s 6ms/step - loss: 0.0494 - accuracy: 0.9911 - val_loss: 2.4919 - val_accuracy: 0.7980\n",
            "Epoch 66/100\n",
            "13/13 [==============================] - 0s 6ms/step - loss: 0.0780 - accuracy: 0.9770 - val_loss: 2.4183 - val_accuracy: 0.7980\n",
            "Epoch 67/100\n",
            "13/13 [==============================] - 0s 6ms/step - loss: 0.0931 - accuracy: 0.9751 - val_loss: 2.4354 - val_accuracy: 0.7879\n",
            "Epoch 68/100\n",
            "13/13 [==============================] - 0s 10ms/step - loss: 0.0865 - accuracy: 0.9808 - val_loss: 2.5300 - val_accuracy: 0.7879\n",
            "Epoch 69/100\n",
            "13/13 [==============================] - 0s 5ms/step - loss: 0.1995 - accuracy: 0.9621 - val_loss: 2.6080 - val_accuracy: 0.7879\n",
            "Epoch 70/100\n",
            "13/13 [==============================] - 0s 5ms/step - loss: 0.1234 - accuracy: 0.9581 - val_loss: 2.6188 - val_accuracy: 0.7879\n",
            "Epoch 71/100\n",
            "13/13 [==============================] - 0s 6ms/step - loss: 0.1193 - accuracy: 0.9748 - val_loss: 2.7233 - val_accuracy: 0.7677\n",
            "Epoch 72/100\n",
            "13/13 [==============================] - 0s 6ms/step - loss: 0.1256 - accuracy: 0.9643 - val_loss: 2.8439 - val_accuracy: 0.7677\n",
            "Epoch 73/100\n",
            "13/13 [==============================] - 0s 5ms/step - loss: 0.1245 - accuracy: 0.9667 - val_loss: 2.7609 - val_accuracy: 0.7778\n",
            "Epoch 74/100\n",
            "13/13 [==============================] - 0s 5ms/step - loss: 0.0956 - accuracy: 0.9672 - val_loss: 2.7085 - val_accuracy: 0.7778\n",
            "Epoch 75/100\n",
            "13/13 [==============================] - 0s 5ms/step - loss: 0.1923 - accuracy: 0.9597 - val_loss: 2.7531 - val_accuracy: 0.7980\n",
            "Epoch 76/100\n",
            "13/13 [==============================] - 0s 5ms/step - loss: 0.1224 - accuracy: 0.9826 - val_loss: 2.6852 - val_accuracy: 0.7879\n",
            "Epoch 77/100\n",
            "13/13 [==============================] - 0s 5ms/step - loss: 0.0934 - accuracy: 0.9667 - val_loss: 2.5977 - val_accuracy: 0.7879\n",
            "Epoch 78/100\n",
            "13/13 [==============================] - 0s 4ms/step - loss: 0.0966 - accuracy: 0.9622 - val_loss: 2.6270 - val_accuracy: 0.7879\n",
            "Epoch 79/100\n",
            "13/13 [==============================] - 0s 6ms/step - loss: 0.0555 - accuracy: 0.9820 - val_loss: 2.6330 - val_accuracy: 0.7778\n",
            "Epoch 80/100\n",
            "13/13 [==============================] - 0s 6ms/step - loss: 0.1042 - accuracy: 0.9733 - val_loss: 2.6337 - val_accuracy: 0.7778\n",
            "Epoch 81/100\n",
            "13/13 [==============================] - 0s 6ms/step - loss: 0.0824 - accuracy: 0.9762 - val_loss: 2.6309 - val_accuracy: 0.7879\n",
            "Epoch 82/100\n",
            "13/13 [==============================] - 0s 4ms/step - loss: 0.1120 - accuracy: 0.9619 - val_loss: 2.6594 - val_accuracy: 0.7879\n",
            "Epoch 83/100\n",
            "13/13 [==============================] - 0s 7ms/step - loss: 0.0892 - accuracy: 0.9709 - val_loss: 2.6095 - val_accuracy: 0.7879\n",
            "Epoch 84/100\n",
            "13/13 [==============================] - 0s 5ms/step - loss: 0.1106 - accuracy: 0.9558 - val_loss: 2.7452 - val_accuracy: 0.7778\n",
            "Epoch 85/100\n",
            "13/13 [==============================] - 0s 5ms/step - loss: 0.0692 - accuracy: 0.9758 - val_loss: 2.8263 - val_accuracy: 0.7879\n",
            "Epoch 86/100\n",
            "13/13 [==============================] - 0s 4ms/step - loss: 0.1077 - accuracy: 0.9834 - val_loss: 2.7245 - val_accuracy: 0.7980\n",
            "Epoch 87/100\n",
            "13/13 [==============================] - 0s 6ms/step - loss: 0.0706 - accuracy: 0.9819 - val_loss: 2.6429 - val_accuracy: 0.7980\n",
            "Epoch 88/100\n",
            "13/13 [==============================] - 0s 6ms/step - loss: 0.0401 - accuracy: 0.9934 - val_loss: 2.6728 - val_accuracy: 0.7879\n",
            "Epoch 89/100\n",
            "13/13 [==============================] - 0s 6ms/step - loss: 0.1228 - accuracy: 0.9618 - val_loss: 2.6649 - val_accuracy: 0.7879\n",
            "Epoch 90/100\n",
            "13/13 [==============================] - 0s 5ms/step - loss: 0.0472 - accuracy: 0.9869 - val_loss: 2.7701 - val_accuracy: 0.7879\n",
            "Epoch 91/100\n",
            "13/13 [==============================] - 0s 6ms/step - loss: 0.0823 - accuracy: 0.9887 - val_loss: 2.6751 - val_accuracy: 0.7879\n",
            "Epoch 92/100\n",
            "13/13 [==============================] - 0s 6ms/step - loss: 0.0848 - accuracy: 0.9809 - val_loss: 2.6716 - val_accuracy: 0.7778\n",
            "Epoch 93/100\n",
            "13/13 [==============================] - 0s 6ms/step - loss: 0.0627 - accuracy: 0.9803 - val_loss: 2.7179 - val_accuracy: 0.7879\n",
            "Epoch 94/100\n",
            "13/13 [==============================] - 0s 5ms/step - loss: 0.0895 - accuracy: 0.9763 - val_loss: 2.7541 - val_accuracy: 0.7879\n",
            "Epoch 95/100\n",
            "13/13 [==============================] - 0s 5ms/step - loss: 0.0592 - accuracy: 0.9784 - val_loss: 2.8317 - val_accuracy: 0.7778\n",
            "Epoch 96/100\n",
            "13/13 [==============================] - 0s 6ms/step - loss: 0.0930 - accuracy: 0.9741 - val_loss: 2.8523 - val_accuracy: 0.7778\n",
            "Epoch 97/100\n",
            "13/13 [==============================] - 0s 5ms/step - loss: 0.0608 - accuracy: 0.9721 - val_loss: 2.8959 - val_accuracy: 0.7778\n",
            "Epoch 98/100\n",
            "13/13 [==============================] - 0s 5ms/step - loss: 0.0546 - accuracy: 0.9867 - val_loss: 2.8363 - val_accuracy: 0.7778\n",
            "Epoch 99/100\n",
            "13/13 [==============================] - 0s 5ms/step - loss: 0.0337 - accuracy: 0.9970 - val_loss: 2.8559 - val_accuracy: 0.7879\n",
            "Epoch 100/100\n",
            "13/13 [==============================] - 0s 5ms/step - loss: 0.0664 - accuracy: 0.9851 - val_loss: 2.8806 - val_accuracy: 0.7879\n"
          ],
          "name": "stdout"
        }
      ]
    },
    {
      "cell_type": "code",
      "metadata": {
        "colab": {
          "base_uri": "https://localhost:8080/",
          "height": 500
        },
        "id": "Ogg59k9C2gSz",
        "outputId": "bf5e8338-9ca0-4384-efa5-8d7d0f6df9c8"
      },
      "source": [
        "import matplotlib.pyplot as plt\n",
        "train_accuracy = history.history['accuracy']\n",
        "val_accuracy = history.history['val_accuracy']\n",
        "plt.figure(figsize=(12, 8))\n",
        "plt.plot(train_accuracy, label='Training Accuracy', color='red')\n",
        "plt.plot(val_accuracy, label='Validation Accuracy', color='blue')\n"
      ],
      "execution_count": 153,
      "outputs": [
        {
          "output_type": "execute_result",
          "data": {
            "text/plain": [
              "[<matplotlib.lines.Line2D at 0x7f77ee13f690>]"
            ]
          },
          "metadata": {
            "tags": []
          },
          "execution_count": 153
        },
        {
          "output_type": "display_data",
          "data": {
            "image/png": "[encoded data removed]",
            "text/plain": [
              "<Figure size 864x576 with 1 Axes>"
            ]
          },
          "metadata": {
            "tags": [],
            "needs_background": "light"
          }
        }
      ]
    },
    {
      "cell_type": "code",
      "metadata": {
        "colab": {
          "base_uri": "https://localhost:8080/"
        },
        "id": "Vgyc7uvI2rmG",
        "outputId": "90bcff65-0972-4e3a-e5d8-ccae2c119b32"
      },
      "source": [
        ""
      ],
      "execution_count": 127,
      "outputs": [
        {
          "output_type": "stream",
          "text": [
            "(199, 193)\n"
          ],
          "name": "stdout"
        }
      ]
    },
    {
      "cell_type": "code",
      "metadata": {
        "colab": {
          "base_uri": "https://localhost:8080/"
        },
        "id": "xhBQ7ekcIe8m",
        "outputId": "18adb3b8-3760-45be-a074-dc33c8e41ba8"
      },
      "source": [
        "model.save('/content/gdrive/My Drive/model')"
      ],
      "execution_count": 162,
      "outputs": [
        {
          "output_type": "stream",
          "text": [
            "INFO:tensorflow:Assets written to: /content/gdrive/My Drive/model/assets\n"
          ],
          "name": "stdout"
        }
      ]
    },
    {
      "cell_type": "code",
      "metadata": {
        "colab": {
          "base_uri": "https://localhost:8080/"
        },
        "id": "x2IJmDHxPuRp",
        "outputId": "f536cc60-3073-4a39-fcef-59955cb2cfb8"
      },
      "source": [
        ""
      ],
      "execution_count": 145,
      "outputs": [
        {
          "output_type": "stream",
          "text": [
            "(99, 86)\n"
          ],
          "name": "stdout"
        }
      ]
    },
    {
      "cell_type": "code",
      "metadata": {
        "colab": {
          "base_uri": "https://localhost:8080/"
        },
        "id": "nqlUKXkUPyTb",
        "outputId": "0639f568-fc02-4dff-dfd8-c11ab0f6a7cb"
      },
      "source": [
        ""
      ],
      "execution_count": 156,
      "outputs": [
        {
          "output_type": "stream",
          "text": [
            "gdrive\tsample_data\n"
          ],
          "name": "stdout"
        }
      ]
    },
    {
      "cell_type": "code",
      "metadata": {
        "id": "H21wO9QoUoNp"
      },
      "source": [
        ""
      ],
      "execution_count": null,
      "outputs": []
    }
  ]
}